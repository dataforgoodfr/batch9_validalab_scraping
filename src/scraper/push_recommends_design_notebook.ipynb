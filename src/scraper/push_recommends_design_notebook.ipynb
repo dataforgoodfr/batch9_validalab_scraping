{
  "metadata": {
    "kernelspec": {
      "display_name": "Python (env validalabDSS)",
      "name": "py-dku-venv-validalabdss",
      "language": "python"
    },
    "language_info": {
      "mimetype": "text/x-python",
      "nbconvert_exporter": "python",
      "version": "3.7.10",
      "name": "python",
      "pygments_lexer": "ipython3",
      "file_extension": ".py",
      "codemirror_mode": {
        "version": 3,
        "name": "ipython"
      }
    },
    "creator": "dfg2",
    "createdOn": 1623089714269,
    "hide_input": false,
    "customFields": {},
    "tags": [],
    "modifiedBy": "dfg2"
  },
  "nbformat": 4,
  "nbformat_minor": 1,
  "cells": [
    {
      "execution_count": 1,
      "cell_type": "code",
      "metadata": {},
      "source": [
        "%pylab inline"
      ],
      "outputs": [
        {
          "output_type": "stream",
          "name": "stdout",
          "text": "Populating the interactive namespace from numpy and matplotlib\n"
        }
      ]
    },
    {
      "execution_count": 2,
      "cell_type": "code",
      "metadata": {},
      "source": [
        "import dataiku\nfrom dataiku import pandasutils as pdu\nimport pandas as pd"
      ],
      "outputs": []
    },
    {
      "execution_count": 51,
      "cell_type": "code",
      "metadata": {},
      "source": [
        "from py2neo import Graph, Node, Relationship, RelationshipMatcher,RelationshipMatch\npassword\u003d\"dfg\"\nip\u003d\u0027163.172.110.238\u0027\ngraph \u003d Graph(\u0027bolt://\u0027+ip, auth\u003d(\"neo4j\", password),name\u003d\"validalabdev\")"
      ],
      "outputs": []
    },
    {
      "execution_count": 4,
      "cell_type": "code",
      "metadata": {},
      "source": [
        "def switch_entity_name(entity_type):\n    \"\"\"[summary]\n    Args:\n        entity_type (str): [description]\n    Returns:\n        str: [description]\n    \"\"\"\n    switcher\u003d{\n                \"entity\":\u0027entity_name\u0027,\n                \"website\":\u0027site_name\u0027,\n                \"youtube\":\u0027user_name\u0027,\n                \"socialmedia\":\u0027user_name\u0027,\n                \"wikipedia\":\u0027\u0027,\n             }\n    return switcher.get(entity_type.lower(),\"Not a social media\")"
      ],
      "outputs": []
    },
    {
      "cell_type": "markdown",
      "metadata": {},
      "source": [
        "### A regarder"
      ]
    },
    {
      "execution_count": 153,
      "cell_type": "code",
      "metadata": {},
      "source": [
        "def find_node(entity_type,merge_key,property_name):\n    return graph.nodes.match(entity_type).where(\"_.\"+merge_key+\" \u003d~ \u0027.*\"+property_name+\".*\u0027\").first()\n\ndef create_and_add_node(graph,entity_type,merge_key,property_name,node\u003dNone):\n    from graphio import NodeSet, RelationshipSet\n    if node\u003d\u003dNone:       \n        node \u003d NodeSet([entity_type], merge_keys\u003d[merge_key])\n        node.add_node({merge_key:property_name})\n        \n        print(node,property_name )\n    else:\n        node.add_node({merge_key:property_name})\n        print(node,property_name, \u0027ELse\u0027)\n    node.merge(graph)\n    return node\n\ndef add_and_push_node(graph,merge_key,property_name,entity_type,node\u003dNone): \n    if find_node(entity_type,merge_key,property_name):\n        pass\n    else:\n        create_and_add_node(graph,entity_type,merge_key,property_name,node)"
      ],
      "outputs": []
    },
    {
      "cell_type": "markdown",
      "metadata": {},
      "source": [
        "### A regarder"
      ]
    },
    {
      "execution_count": 154,
      "cell_type": "code",
      "metadata": {},
      "source": [
        "def get_entity_name(link):\n    from urllib.parse import urlparse \n    \"\"\"\n    \"\"\"\n    if \u0027facebook\u0027 in link.lower() or \u0027fb.\u0027 in link.lower() :\n        entity_name\u003dlink.split(\u0027/\u0027)[3].split(\u0027?\u0027)[0].lower()\n        entity_address\u003dlink.split(\u0027?\u0027)[0].lower().replace(\"www.\",\u0027\u0027).lower()\n        entity_type\u003d\"Facebook\"\n    elif \u0027twitter\u0027 in link.lower():\n        entity_name\u003dlink.split(\u0027/\u0027)[3].split(\u0027?\u0027)[0].lower()\n        entity_address\u003dlink.split(\u0027?\u0027)[0].lower()\n        entity_type\u003d\u0027Twitter\u0027\n    else:\n        if len(link.split(\u0027/\u0027))\u003c2:\n            entity_name\u003dlink.lower().replace(\"www.\",\u0027\u0027)\n            parsed_uri \u003d urlparse(link)  # returns six components\n            entity_address \u003d \u0027https:\u0027+\u0027//\u0027+link.lower()\n            \n        else:\n            entity_name\u003dlink.split(\u0027/\u0027)[2].split(\u0027?\u0027)[0].lower().replace(\"www.\",\u0027\u0027)\n            parsed_uri \u003d urlparse(link)  # returns six components\n            entity_address \u003d link.split(\u0027/\u0027)[0]+\u0027//\u0027+link.split(\u0027/\u0027)[2]\n#         \u0027{uri.netloc}/\u0027.format(uri\u003dparsed_uri).split(\u0027/\u0027)[0].lower()\n        entity_type\u003d\u0027Website\u0027\n    return {\u0027name\u0027:entity_name,\u0027address\u0027:entity_address,\u0027type\u0027:entity_type}"
      ],
      "outputs": []
    },
    {
      "cell_type": "markdown",
      "metadata": {},
      "source": [
        "### A regarder"
      ]
    },
    {
      "execution_count": 157,
      "cell_type": "code",
      "metadata": {},
      "source": [
        "def push_relations(nameOfRelation,sourceType,targetType,sourceProperty,targetProperty,sourceMetadata,targetMetadata):\n    from graphio import NodeSet, RelationshipSet\n    sourceData\u003dget_entity_name(sourceMetadata[\u0027source\u0027])\n    \n    sourceNode \u003d NodeSet([sourceType], merge_keys\u003d[sourceProperty])\n    targetNode \u003d NodeSet([targetType], merge_keys\u003d[targetProperty])\n    \n    add_and_push_node(graph,sourceProperty,sourceData[\u0027name\u0027],sourceType,sourceNode)\n\n    RELATIONSHIP \u003d RelationshipSet(nameOfRelation,\n                                                   [sourceType], [targetType],\n                                                   [sourceProperty], [targetProperty]) \n    print(\"\"\"RelationshipSet({},       [{}], [{}],\n                                                   [{}], [{}]) \"\"\".format(nameOfRelation,sourceType,targetType,sourceProperty,targetProperty))\n    \n    for item in targetMetadata:\n\n        targetNode\u003dadd_and_push_node(graph,targetProperty,item[\u0027name\u0027],targetType,targetNode)\n\n        RELATIONSHIP.add_relationship({sourceProperty:sourceData[\u0027name\u0027]},\n                                                         {targetProperty:item[\u0027name\u0027]},\n                                                         sourceMetadata) \n    RELATIONSHIP.merge(graph)\n"
      ],
      "outputs": []
    },
    {
      "execution_count": 158,
      "cell_type": "code",
      "metadata": {},
      "source": [
        "url_list\u003d[\u0027test2.com\u0027,\u0027www.atlantic-test2.com\u0027,\u0027www.test2-finance.fr\u0027,\u0027www.eco-test2.cash\u0027]\n# url_list\u003d[\u0027soromabnkfinance.group\u0027,\u0027www.atlantic-credit.com\u0027,\u0027www.courtin-finance.fr\u0027,\u0027www.eco-credit.cash\u0027]\ntargetMetadata\u003d[get_entity_name(entity) for entity in url_list]\nmetadata\u003d{\u0027meaning\u0027: \u0027testParo\u0027, \u0027weigth\u0027:\u0027-10\u0027, \u0027source\u0027:\u0027https://www.abe-infoservice.fr/liste-noire/listes-noires-et-alertes-des-autorites\u0027}\n# push_recommands(\u0027RECOMMANDS\u0027,start_node\u003d\u0027Website\u0027,end_node\u003d\u0027Website\u0027,property_start\u003d\u0027name\u0027,property_end\u003d\u0027name\u0027,source\u003d\u0027abe-infoservice.fr\u0027,url_list,metadata)\npush_relations(nameOfRelation\u003d\u0027RECOMMENDS\u0027,sourceType\u003d\u0027Website\u0027,targetType\u003d\u0027Website\u0027,sourceProperty\u003d\u0027name\u0027,targetProperty\u003d\u0027name\u0027,sourceMetadata\u003dmetadata,targetMetadata\u003dtargetMetadata)"
      ],
      "outputs": [
        {
          "output_type": "stream",
          "name": "stdout",
          "text": "RelationshipSet(RECOMMENDS,       [Website], [Website],\n                                                   [name], [name]) \n"
        }
      ]
    },
    {
      "execution_count": 150,
      "cell_type": "code",
      "metadata": {},
      "source": [
        "t\u003dfind_node(\u0027Website\u0027,\u0027name\u0027,\u0027abe-infoservice.fr\u0027)\nx\u003dfind_node(\u0027Website\u0027,\u0027name\u0027,\u0027test.com\u0027)"
      ],
      "outputs": []
    },
    {
      "execution_count": 152,
      "cell_type": "code",
      "metadata": {},
      "source": [
        "relMatch \u003d RelationshipMatcher(graph)\nlist(relMatch.match((t,None),\u0027RECOMMENDS\u0027))"
      ],
      "outputs": [
        {
          "output_type": "execute_result",
          "metadata": {},
          "data": {
            "text/plain": "[RECOMMENDS(Node(\u0027Website\u0027, ArticleRank\u003d0.1591661642633618, BetweennessCentrality\u003d0.0, ClosenessCentrality\u003d0.0, D1_crawled\u003d[False], D1_crawling_status\u003d[\u0027UNCRAWLED\u0027], D1_creation_date\u003d[1589839344576.0], D1_id\u003d[\u00274360\u0027], D1_indegree\u003d[2], D1_indexing_status\u003d[\u0027UNINDEXED\u0027], D1_label\u003d[\u0027Abe-Infoservice.fr\u0027], D1_last_modification_date\u003d[1589839344576.0], D1_name\u003d[\u0027Abe-Infoservice.fr\u0027], D1_outdegree\u003d[0], D1_pages_crawled\u003d[0], D1_pages_total\u003d[2], D1_status\u003d[\u0027DISCOVERED\u0027], D1_undirected_degree\u003d[2], DegreeCentrality\u003d0.0, EigenvectorCentrality\u003d0.8001903111373021, LabelPropagationCommunity\u003d8358, LouvainCommunity\u003d6012, ModularityOptimization\u003d6012, PageRank\u003d0.15979922041574848, PageRanktot\u003d0.15846837437909675, StronglyConnectedComponents\u003d6012, TriangleCount\u003d1, WCC_bij\u003d6012, WeaklyConnectedComponents\u003d0, name\u003d\u0027abe-infoservice.fr\u0027, site_name\u003d\u0027abe-infoservice.fr\u0027), Node(\u0027Website\u0027, name\u003d\u0027atlantic-test2.com\u0027), meaning\u003d\u0027testParo\u0027, source\u003d\u0027https://www.abe-infoservice.fr/liste-noire/listes-noires-et-alertes-des-autorites\u0027, weigth\u003d\u0027-10\u0027),\n RECOMMENDS(Node(\u0027Website\u0027, ArticleRank\u003d0.1591661642633618, BetweennessCentrality\u003d0.0, ClosenessCentrality\u003d0.0, D1_crawled\u003d[False], D1_crawling_status\u003d[\u0027UNCRAWLED\u0027], D1_creation_date\u003d[1589839344576.0], D1_id\u003d[\u00274360\u0027], D1_indegree\u003d[2], D1_indexing_status\u003d[\u0027UNINDEXED\u0027], D1_label\u003d[\u0027Abe-Infoservice.fr\u0027], D1_last_modification_date\u003d[1589839344576.0], D1_name\u003d[\u0027Abe-Infoservice.fr\u0027], D1_outdegree\u003d[0], D1_pages_crawled\u003d[0], D1_pages_total\u003d[2], D1_status\u003d[\u0027DISCOVERED\u0027], D1_undirected_degree\u003d[2], DegreeCentrality\u003d0.0, EigenvectorCentrality\u003d0.8001903111373021, LabelPropagationCommunity\u003d8358, LouvainCommunity\u003d6012, ModularityOptimization\u003d6012, PageRank\u003d0.15979922041574848, PageRanktot\u003d0.15846837437909675, StronglyConnectedComponents\u003d6012, TriangleCount\u003d1, WCC_bij\u003d6012, WeaklyConnectedComponents\u003d0, name\u003d\u0027abe-infoservice.fr\u0027, site_name\u003d\u0027abe-infoservice.fr\u0027), Node(\u0027Website\u0027, name\u003d\u0027test2.com\u0027), meaning\u003d\u0027testParo\u0027, source\u003d\u0027https://www.abe-infoservice.fr/liste-noire/listes-noires-et-alertes-des-autorites\u0027, weigth\u003d\u0027-10\u0027),\n RECOMMENDS(Node(\u0027Website\u0027, ArticleRank\u003d0.1591661642633618, BetweennessCentrality\u003d0.0, ClosenessCentrality\u003d0.0, D1_crawled\u003d[False], D1_crawling_status\u003d[\u0027UNCRAWLED\u0027], D1_creation_date\u003d[1589839344576.0], D1_id\u003d[\u00274360\u0027], D1_indegree\u003d[2], D1_indexing_status\u003d[\u0027UNINDEXED\u0027], D1_label\u003d[\u0027Abe-Infoservice.fr\u0027], D1_last_modification_date\u003d[1589839344576.0], D1_name\u003d[\u0027Abe-Infoservice.fr\u0027], D1_outdegree\u003d[0], D1_pages_crawled\u003d[0], D1_pages_total\u003d[2], D1_status\u003d[\u0027DISCOVERED\u0027], D1_undirected_degree\u003d[2], DegreeCentrality\u003d0.0, EigenvectorCentrality\u003d0.8001903111373021, LabelPropagationCommunity\u003d8358, LouvainCommunity\u003d6012, ModularityOptimization\u003d6012, PageRank\u003d0.15979922041574848, PageRanktot\u003d0.15846837437909675, StronglyConnectedComponents\u003d6012, TriangleCount\u003d1, WCC_bij\u003d6012, WeaklyConnectedComponents\u003d0, name\u003d\u0027abe-infoservice.fr\u0027, site_name\u003d\u0027abe-infoservice.fr\u0027), Node(\u0027Website\u0027, name\u003d\u0027test2-finance.fr\u0027), meaning\u003d\u0027testParo\u0027, source\u003d\u0027https://www.abe-infoservice.fr/liste-noire/listes-noires-et-alertes-des-autorites\u0027, weigth\u003d\u0027-10\u0027),\n RECOMMENDS(Node(\u0027Website\u0027, ArticleRank\u003d0.1591661642633618, BetweennessCentrality\u003d0.0, ClosenessCentrality\u003d0.0, D1_crawled\u003d[False], D1_crawling_status\u003d[\u0027UNCRAWLED\u0027], D1_creation_date\u003d[1589839344576.0], D1_id\u003d[\u00274360\u0027], D1_indegree\u003d[2], D1_indexing_status\u003d[\u0027UNINDEXED\u0027], D1_label\u003d[\u0027Abe-Infoservice.fr\u0027], D1_last_modification_date\u003d[1589839344576.0], D1_name\u003d[\u0027Abe-Infoservice.fr\u0027], D1_outdegree\u003d[0], D1_pages_crawled\u003d[0], D1_pages_total\u003d[2], D1_status\u003d[\u0027DISCOVERED\u0027], D1_undirected_degree\u003d[2], DegreeCentrality\u003d0.0, EigenvectorCentrality\u003d0.8001903111373021, LabelPropagationCommunity\u003d8358, LouvainCommunity\u003d6012, ModularityOptimization\u003d6012, PageRank\u003d0.15979922041574848, PageRanktot\u003d0.15846837437909675, StronglyConnectedComponents\u003d6012, TriangleCount\u003d1, WCC_bij\u003d6012, WeaklyConnectedComponents\u003d0, name\u003d\u0027abe-infoservice.fr\u0027, site_name\u003d\u0027abe-infoservice.fr\u0027), Node(\u0027Website\u0027, name\u003d\u0027eco-test2.cash\u0027), meaning\u003d\u0027testParo\u0027, source\u003d\u0027https://www.abe-infoservice.fr/liste-noire/listes-noires-et-alertes-des-autorites\u0027, weigth\u003d\u0027-10\u0027),\n RECOMMENDS(Node(\u0027Website\u0027, ArticleRank\u003d0.1591661642633618, BetweennessCentrality\u003d0.0, ClosenessCentrality\u003d0.0, D1_crawled\u003d[False], D1_crawling_status\u003d[\u0027UNCRAWLED\u0027], D1_creation_date\u003d[1589839344576.0], D1_id\u003d[\u00274360\u0027], D1_indegree\u003d[2], D1_indexing_status\u003d[\u0027UNINDEXED\u0027], D1_label\u003d[\u0027Abe-Infoservice.fr\u0027], D1_last_modification_date\u003d[1589839344576.0], D1_name\u003d[\u0027Abe-Infoservice.fr\u0027], D1_outdegree\u003d[0], D1_pages_crawled\u003d[0], D1_pages_total\u003d[2], D1_status\u003d[\u0027DISCOVERED\u0027], D1_undirected_degree\u003d[2], DegreeCentrality\u003d0.0, EigenvectorCentrality\u003d0.8001903111373021, LabelPropagationCommunity\u003d8358, LouvainCommunity\u003d6012, ModularityOptimization\u003d6012, PageRank\u003d0.15979922041574848, PageRanktot\u003d0.15846837437909675, StronglyConnectedComponents\u003d6012, TriangleCount\u003d1, WCC_bij\u003d6012, WeaklyConnectedComponents\u003d0, name\u003d\u0027abe-infoservice.fr\u0027, site_name\u003d\u0027abe-infoservice.fr\u0027), Node(\u0027Website\u0027, ArticleRank\u003d0.15194157417709866, BetweennessCentrality\u003d0.0, ClosenessCentrality\u003d0.0, D1_crawled\u003d[False], D1_crawling_status\u003d[\u0027UNCRAWLED\u0027], D1_creation_date\u003d[1589844879381.0], D1_homepage\u003d[\u0027http://test.com\u0027], D1_id\u003d[\u002712448\u0027], D1_indegree\u003d[2], D1_indexing_status\u003d[\u0027UNINDEXED\u0027], D1_label\u003d[\u0027Test.com\u0027], D1_last_modification_date\u003d[1589844879381.0], D1_name\u003d[\u0027Test.com\u0027], D1_outdegree\u003d[0], D1_pages_crawled\u003d[0], D1_pages_total\u003d[2], D1_status\u003d[\u0027DISCOVERED\u0027], D1_undirected_degree\u003d[2], DegreeCentrality\u003d0.0, EigenvectorCentrality\u003d1.5341963779439165, LabelPropagationCommunity\u003d15392, LouvainCommunity\u003d11269, ModularityOptimization\u003d11269, PageRank\u003d0.15201976430308517, PageRanktot\u003d0.1517299937546808, StronglyConnectedComponents\u003d11269, TriangleCount\u003d0, WCC_bij\u003d11269, WeaklyConnectedComponents\u003d0, name\u003d\u0027test.com\u0027, site_name\u003d\u0027test.com\u0027), meaning\u003d\u0027testParo\u0027, source\u003d\u0027https://www.abe-infoservice.fr/liste-noire/listes-noires-et-alertes-des-autorites\u0027, weigth\u003d\u0027-10\u0027),\n RECOMMENDS(Node(\u0027Website\u0027, ArticleRank\u003d0.1591661642633618, BetweennessCentrality\u003d0.0, ClosenessCentrality\u003d0.0, D1_crawled\u003d[False], D1_crawling_status\u003d[\u0027UNCRAWLED\u0027], D1_creation_date\u003d[1589839344576.0], D1_id\u003d[\u00274360\u0027], D1_indegree\u003d[2], D1_indexing_status\u003d[\u0027UNINDEXED\u0027], D1_label\u003d[\u0027Abe-Infoservice.fr\u0027], D1_last_modification_date\u003d[1589839344576.0], D1_name\u003d[\u0027Abe-Infoservice.fr\u0027], D1_outdegree\u003d[0], D1_pages_crawled\u003d[0], D1_pages_total\u003d[2], D1_status\u003d[\u0027DISCOVERED\u0027], D1_undirected_degree\u003d[2], DegreeCentrality\u003d0.0, EigenvectorCentrality\u003d0.8001903111373021, LabelPropagationCommunity\u003d8358, LouvainCommunity\u003d6012, ModularityOptimization\u003d6012, PageRank\u003d0.15979922041574848, PageRanktot\u003d0.15846837437909675, StronglyConnectedComponents\u003d6012, TriangleCount\u003d1, WCC_bij\u003d6012, WeaklyConnectedComponents\u003d0, name\u003d\u0027abe-infoservice.fr\u0027, site_name\u003d\u0027abe-infoservice.fr\u0027), Node(\u0027Website\u0027, name\u003d\u0027soromabnkfinance.group\u0027), meaning\u003d\u0027parodique\u0027, source\u003d\u0027https://www.abe-infoservice.fr/liste-noire/listes-noires-et-alertes-des-autorites\u0027, weigth\u003d\u0027-1\u0027),\n RECOMMENDS(Node(\u0027Website\u0027, ArticleRank\u003d0.1591661642633618, BetweennessCentrality\u003d0.0, ClosenessCentrality\u003d0.0, D1_crawled\u003d[False], D1_crawling_status\u003d[\u0027UNCRAWLED\u0027], D1_creation_date\u003d[1589839344576.0], D1_id\u003d[\u00274360\u0027], D1_indegree\u003d[2], D1_indexing_status\u003d[\u0027UNINDEXED\u0027], D1_label\u003d[\u0027Abe-Infoservice.fr\u0027], D1_last_modification_date\u003d[1589839344576.0], D1_name\u003d[\u0027Abe-Infoservice.fr\u0027], D1_outdegree\u003d[0], D1_pages_crawled\u003d[0], D1_pages_total\u003d[2], D1_status\u003d[\u0027DISCOVERED\u0027], D1_undirected_degree\u003d[2], DegreeCentrality\u003d0.0, EigenvectorCentrality\u003d0.8001903111373021, LabelPropagationCommunity\u003d8358, LouvainCommunity\u003d6012, ModularityOptimization\u003d6012, PageRank\u003d0.15979922041574848, PageRanktot\u003d0.15846837437909675, StronglyConnectedComponents\u003d6012, TriangleCount\u003d1, WCC_bij\u003d6012, WeaklyConnectedComponents\u003d0, name\u003d\u0027abe-infoservice.fr\u0027, site_name\u003d\u0027abe-infoservice.fr\u0027), Node(\u0027Website\u0027, name\u003d\u0027eco-credit.cash\u0027), meaning\u003d\u0027parodique\u0027, source\u003d\u0027https://www.abe-infoservice.fr/liste-noire/listes-noires-et-alertes-des-autorites\u0027, weigth\u003d\u0027-1\u0027),\n RECOMMENDS(Node(\u0027Website\u0027, ArticleRank\u003d0.1591661642633618, BetweennessCentrality\u003d0.0, ClosenessCentrality\u003d0.0, D1_crawled\u003d[False], D1_crawling_status\u003d[\u0027UNCRAWLED\u0027], D1_creation_date\u003d[1589839344576.0], D1_id\u003d[\u00274360\u0027], D1_indegree\u003d[2], D1_indexing_status\u003d[\u0027UNINDEXED\u0027], D1_label\u003d[\u0027Abe-Infoservice.fr\u0027], D1_last_modification_date\u003d[1589839344576.0], D1_name\u003d[\u0027Abe-Infoservice.fr\u0027], D1_outdegree\u003d[0], D1_pages_crawled\u003d[0], D1_pages_total\u003d[2], D1_status\u003d[\u0027DISCOVERED\u0027], D1_undirected_degree\u003d[2], DegreeCentrality\u003d0.0, EigenvectorCentrality\u003d0.8001903111373021, LabelPropagationCommunity\u003d8358, LouvainCommunity\u003d6012, ModularityOptimization\u003d6012, PageRank\u003d0.15979922041574848, PageRanktot\u003d0.15846837437909675, StronglyConnectedComponents\u003d6012, TriangleCount\u003d1, WCC_bij\u003d6012, WeaklyConnectedComponents\u003d0, name\u003d\u0027abe-infoservice.fr\u0027, site_name\u003d\u0027abe-infoservice.fr\u0027), Node(\u0027Website\u0027, name\u003d\u0027courtin-finance.fr\u0027), meaning\u003d\u0027parodique\u0027, source\u003d\u0027https://www.abe-infoservice.fr/liste-noire/listes-noires-et-alertes-des-autorites\u0027, weigth\u003d\u0027-1\u0027),\n RECOMMENDS(Node(\u0027Website\u0027, ArticleRank\u003d0.1591661642633618, BetweennessCentrality\u003d0.0, ClosenessCentrality\u003d0.0, D1_crawled\u003d[False], D1_crawling_status\u003d[\u0027UNCRAWLED\u0027], D1_creation_date\u003d[1589839344576.0], D1_id\u003d[\u00274360\u0027], D1_indegree\u003d[2], D1_indexing_status\u003d[\u0027UNINDEXED\u0027], D1_label\u003d[\u0027Abe-Infoservice.fr\u0027], D1_last_modification_date\u003d[1589839344576.0], D1_name\u003d[\u0027Abe-Infoservice.fr\u0027], D1_outdegree\u003d[0], D1_pages_crawled\u003d[0], D1_pages_total\u003d[2], D1_status\u003d[\u0027DISCOVERED\u0027], D1_undirected_degree\u003d[2], DegreeCentrality\u003d0.0, EigenvectorCentrality\u003d0.8001903111373021, LabelPropagationCommunity\u003d8358, LouvainCommunity\u003d6012, ModularityOptimization\u003d6012, PageRank\u003d0.15979922041574848, PageRanktot\u003d0.15846837437909675, StronglyConnectedComponents\u003d6012, TriangleCount\u003d1, WCC_bij\u003d6012, WeaklyConnectedComponents\u003d0, name\u003d\u0027abe-infoservice.fr\u0027, site_name\u003d\u0027abe-infoservice.fr\u0027), Node(\u0027Website\u0027, name\u003d\u0027atlantic-credit.com\u0027), meaning\u003d\u0027parodique\u0027, source\u003d\u0027https://www.abe-infoservice.fr/liste-noire/listes-noires-et-alertes-des-autorites\u0027, weigth\u003d\u0027-1\u0027)]"
          },
          "execution_count": 152
        }
      ]
    },
    {
      "execution_count": 148,
      "cell_type": "code",
      "metadata": {
        "scrolled": true
      },
      "source": [
        "def push_relations(nameOfRelation,sourceType,targetType,sourceProperty,targetProperty,sourceMetadata,targetMetadata):\n    from graphio import NodeSet, RelationshipSet\n    sourceData\u003dget_entity_name(sourceMetadata[\u0027source\u0027])\n#     print(sourceData)\n#     sourceNode \u003d NodeSet([sourceType], merge_keys\u003d[sourceProperty])\n    targetNode \u003d NodeSet([targetType], merge_keys\u003d[targetProperty])\n#     print(sourceNode)\n    #ajouter la source si elle n\u0027existe pas\n    sourceNode\u003dis_node_existing(graph,sourceProperty,sourceData[\u0027name\u0027],sourceType)\n#     targetNode\u003dis_node_existing(targetProperty,,targetType)\n#     sourceNode.add_node({sourceProperty:sourceData[\u0027name\u0027]})\n#     sourceNode.merge(graph)\n#     add_node(propertyStart,source[\u0027name\u0027],source[\u0027type\u0027])\n    # itérer les target et ajouter les relations\n    \n    \n    RELATIONSHIP \u003d RelationshipSet(nameOfRelation,\n                                                   [sourceType], [targetType],\n                                                   [sourceProperty], [targetProperty]) \n    print(\"\"\"RelationshipSet({},       [{}], [{}],\n                                                   [{}], [{}]) \"\"\".format(nameOfRelation,sourceType,targetType,sourceProperty,targetProperty))\n    \n    for item in targetMetadata:\n#         targetNode \u003d NodeSet([endNode], merge_keys\u003d[propertyEnd])\n#         print(item)\n        targetNode\u003dis_node_existing(graph,targetProperty,item[\u0027name\u0027],targetType,targetNode)\n#         targetNode.add_node({targetProperty:item[\u0027name\u0027]})\n        RELATIONSHIP.add_relationship({sourceProperty:sourceData[\u0027name\u0027]},\n                                                         {targetProperty:item[\u0027name\u0027]},\n                                                         sourceMetadata) \n        \n#     RELATIONSHIP.create_index(graph)\n    RELATIONSHIP.merge(graph)\n    print(targetNode)\n#     targetNode.merge(graph)\n# url_list\u003d[\u0027soromabnkfinance.group\u0027,\u0027www.atlantic-credit.com\u0027,\u0027www.courtin-finance.fr\u0027,\u0027www.eco-credit.cash\u0027]\n# # url_list\u003d[\u0027soromabnkfinance.group\u0027,\u0027www.atlantic-credit.com\u0027,\u0027www.courtin-finance.fr\u0027,\u0027www.eco-credit.cash\u0027]\n# targetMetadata\u003d[get_entity_name(entity) for entity in url_list]\n# metadata\u003d{\u0027meaning\u0027: \u0027parodique\u0027, \u0027weigth\u0027:\u0027-1\u0027, \u0027source\u0027:\u0027https://www.abe-infoservice.fr/liste-noire/listes-noires-et-alertes-des-autorites\u0027}\n# # push_recommands(\u0027RECOMMANDS\u0027,start_node\u003d\u0027Website\u0027,end_node\u003d\u0027Website\u0027,property_start\u003d\u0027name\u0027,property_end\u003d\u0027name\u0027,source\u003d\u0027abe-infoservice.fr\u0027,url_list,metadata)\n# push_relations(nameOfRelation\u003d\u0027RECOMMENDS\u0027,sourceType\u003d\u0027Website\u0027,targetType\u003d\u0027Website\u0027,sourceProperty\u003d\u0027name\u0027,targetProperty\u003d\u0027name\u0027,sourceMetadata\u003dmetadata,targetMetadata\u003dtargetMetadata)"
      ],
      "outputs": []
    }
  ]
}